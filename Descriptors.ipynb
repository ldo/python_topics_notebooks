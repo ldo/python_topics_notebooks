{
 "cells": [
  {
   "cell_type": "markdown",
   "metadata": {},
   "source": [
    "# Descriptors #\n",
    "\n",
    "*Descriptors* are [defined](https://docs.python.org/3/reference/datamodel.html#descriptors) in the Python language reference in a very abstract way: it is not clear what they really are for. In fact, they are quite a fundamental feature of the language, it’s just that you often use them without even being aware of it.\n",
    "\n",
    "**Every function is automatically a descriptor**. When you define a function, it initially becomes a *non-data descriptor*: it is an object with a `__get__()` method, but none of the other special descriptor methods."
   ]
  },
  {
   "cell_type": "code",
   "execution_count": null,
   "metadata": {},
   "outputs": [],
   "source": [
    "def testfunc() :\n",
    "    pass\n",
    "#end testfunc\n",
    "\n",
    "for attr in (\"__get__\", \"__set__\", \"__delete__\", \"__set_name__\") :\n",
    "    print(\"has %s? %s\" % (attr, hasattr(testfunc, attr)))\n",
    "#end for"
   ]
  },
  {
   "cell_type": "markdown",
   "metadata": {},
   "source": [
    "Of course, this can be changed by redefining the attributes of the function object. Thus, the [`property()`](https://docs.python.org/3/library/functions.html#property) builtin turns a function into a data descriptor by attaching `__set__()` and `__delete__()` methods. Note that it has to do this even for read-only properties; if no setter is defined for the property, then `__set__()` simply raises an exception saying the property is read-only."
   ]
  },
  {
   "cell_type": "markdown",
   "metadata": {},
   "source": [
    "### When Do Descriptors Come Into Effect? ###\n",
    "\n",
    "Descriptors come into play when you access them through an *instance* of a class. When you use a construct like\n",
    "\n",
    "    «inst».«attr»\n",
    "\n",
    "where «inst» is some expression, and «attr» is some name, then Python goes through a procedure something like this:\n",
    "* Is «attr» the name of an instance member of object «inst»? If so, then access the value of that instance member.\n",
    "* If not, is «inst» an instance of some class «class», and is «attr» the name of a member of that class? If so:\n",
    "* Is the value of «class».«attr» a descriptor? If not, then access the value of that class member.\n",
    "* But if it is, and the access is not the LHS of an assignment or a `del` statement, call its `__get__()` method.\n",
    "* If the access is the LHS of an assignment and the descriptor has a `__set__()` method (it is a data descriptor), call that.\n",
    "* If the access is in a `del` statement and the descriptor has a `__delete__()` method (data descriptor), call that.\n",
    "* Otherwise, for an assignment to a non-data descriptor, create an instance member with that name and set it to the value of the RHS. `del` of a nonexistent instance member is an error.\n",
    "\n",
    "In the following, `TestClass` is a test class that uses some specially-constructed descriptor classes to demonstrate the behaviour:"
   ]
  },
  {
   "cell_type": "code",
   "execution_count": null,
   "metadata": {},
   "outputs": [],
   "source": [
    "class NonDataDescriptor :\n",
    "    \"constructs a dummy non-data descriptor with an identifying name.\"\n",
    "\n",
    "    def __init__(self, name) :\n",
    "        self.name = name\n",
    "    #end __init__\n",
    "    \n",
    "    def __get__(self, *args) :\n",
    "        print(\"called nondata “%s” get(%s)\" % (self.name, repr(args)))\n",
    "    #end __get__\n",
    "    \n",
    "#end NonDataDescriptor\n",
    "\n",
    "class DataDescriptor :\n",
    "    \"constructs a dummy data descriptor with an identifying name.\"\n",
    "\n",
    "    def __init__(self, name) :\n",
    "        self.name = name\n",
    "    #end __init__\n",
    "\n",
    "    def __get__(self, *args) :\n",
    "        print(\"called data “%s” get(%s)\" % (self.name, repr(args)))\n",
    "    #end __get__\n",
    "\n",
    "    def __set__(self, *args) :\n",
    "        print(\"called data “%s” set(%s)\" % (self.name, repr(args)))\n",
    "    #end __set__\n",
    "    \n",
    "#end DataDescriptor\n",
    "\n",
    "class TestClass :\n",
    "    nondata = NonDataDescriptor(\"meth\")\n",
    "    data = DataDescriptor(\"prop\")\n",
    "#end TestClass"
   ]
  },
  {
   "cell_type": "markdown",
   "metadata": {},
   "source": [
    "(It may seem a bit recursive to illustrate the behaviour of methods of class instances by calling methods of yet more class instances, but hey, it works.)\n",
    "\n",
    "Now, if you create an instance of `TestClass` and try accessing the class attributes through this instance, Python will automatically invoke the `__get__()` methods on those attribute objects:"
   ]
  },
  {
   "cell_type": "code",
   "execution_count": null,
   "metadata": {},
   "outputs": [],
   "source": [
    "t = TestClass()\n",
    "t.nondata\n",
    "t.data"
   ]
  },
  {
   "cell_type": "markdown",
   "metadata": {},
   "source": [
    "Notice how the `__get__()` methods automatically get called; normally you need parentheses somewhere to indicate a function call, but here there are no parentheses to trigger those calls at all.\n",
    "\n",
    "When you try assigning to those attributes on the class instance, the non-data descriptor will be overridden by creating an attribute of that name on the instance. However, the data descriptor *cannot* be overridden in this way: instead, its `__set__()` method will be invoked, passing the value that you attempt to assign:"
   ]
  },
  {
   "cell_type": "code",
   "execution_count": null,
   "metadata": {},
   "outputs": [],
   "source": [
    "t.nondata = \"something new\"\n",
    "t.nondata"
   ]
  },
  {
   "cell_type": "code",
   "execution_count": null,
   "metadata": {},
   "outputs": [],
   "source": [
    "t.data = \"something new\"\n",
    "t.data"
   ]
  },
  {
   "cell_type": "markdown",
   "metadata": {},
   "source": [
    "As you can see, after the assignment to `t.nondata`, the `NonDataDescriptor.__get__()` method is no longer being invoked, while both references to `t.data` are passed through to appropriate methods of `DataDescriptor`. Thus, you see output generated from method calls in the latter two lines, but not the first two."
   ]
  },
  {
   "cell_type": "markdown",
   "metadata": {},
   "source": [
    "#### What Do These Methods Do? ####\n",
    "\n",
    "The default `__get__()` method for a function constructs a *method* object. When called, this invokes the original function, prepending the class instance onto the argument list. In other words,\n",
    "\n",
    "    «instance».«func»(«args» ...)\n",
    "\n",
    "gets turned into\n",
    "\n",
    "    type(«instance»).«func».__get__(«func», «instance», «class»)(«args» ...)\n",
    "\n",
    "which gets turned into\n",
    "\n",
    "    type(«instance»).«func»(«instance», «args» ...)\n",
    "\n",
    "Note that a new method object gets created on *every invocation of `__get__()`*:\n"
   ]
  },
  {
   "cell_type": "code",
   "execution_count": null,
   "metadata": {},
   "outputs": [],
   "source": [
    "import types\n",
    "\n",
    "class TestClass1 :\n",
    "\n",
    "    def test_method(self) :\n",
    "        pass\n",
    "    #end test_method\n",
    "\n",
    "#end TestClass\n",
    "\n",
    "test_inst = TestClass1()\n",
    "\n",
    "print(\"function is of FunctionType? \", isinstance(TestClass1.test_method, types.FunctionType))\n",
    "print(\"instance method is of FunctionType? \", isinstance(test_inst.test_method, types.FunctionType))\n",
    "print(\"instance method is of MethodType? \", isinstance(test_inst.test_method, types.MethodType))\n",
    "print(\"same method object each time? \", test_inst.test_method is test_inst.test_method)\n",
    "print(\"equal method object each time? \", test_inst.test_method == test_inst.test_method)"
   ]
  },
  {
   "cell_type": "markdown",
   "metadata": {},
   "source": [
    "But each method object has a `__func__` attribute which refers back to the original function definition:"
   ]
  },
  {
   "cell_type": "code",
   "execution_count": null,
   "metadata": {},
   "outputs": [],
   "source": [
    "print(\"method objects have same __func__?\", test_inst.test_method.__func__ is test_inst.test_method.__func__)"
   ]
  },
  {
   "cell_type": "markdown",
   "metadata": {},
   "source": [
    "So what does the default `__get__()` method of a function object do? Let us see if we can synthesize its behaviour by hand. Here we define an `InstanceMethodMaker` class which tries to duplicate the behaviour that Python provides for functions anyway:"
   ]
  },
  {
   "cell_type": "code",
   "execution_count": null,
   "metadata": {},
   "outputs": [],
   "source": [
    "class InstanceMethodMaker :\n",
    "\n",
    "    def __init__(self, func) :\n",
    "        self.__func__ = func\n",
    "    #end __init__\n",
    "\n",
    "    def __get__(self, instance, owner) :\n",
    "\n",
    "        def callfunc(*args, **kwargs) :\n",
    "            return \\\n",
    "                self.__func__(instance, *args, **kwargs)\n",
    "        #end callfunc\n",
    "\n",
    "    #begin __get__\n",
    "        return \\\n",
    "            callfunc\n",
    "    #end ___get__\n",
    "\n",
    "#end InstanceMethodMaker\n",
    "\n",
    "class MyClass :\n",
    "    pass # no methods defined here!\n",
    "#end MyClass\n",
    "\n",
    "def my_method(*args) :\n",
    "    print(\"my_method got called with args %s\" % repr(args))\n",
    "#end my_method\n",
    "\n",
    "MyClass.instance_method = InstanceMethodMaker(my_method)\n",
    "my_instance = MyClass()"
   ]
  },
  {
   "cell_type": "markdown",
   "metadata": {},
   "source": [
    "Referencing the instance method causes our `__get__()` function to be invoked, which returns a reference to its inner `callfunc` function:"
   ]
  },
  {
   "cell_type": "code",
   "execution_count": null,
   "metadata": {},
   "outputs": [],
   "source": [
    "my_instance.instance_method"
   ]
  },
  {
   "cell_type": "markdown",
   "metadata": {},
   "source": [
    "And when we call this, it implements the actual dispatching to the function as an instance method:"
   ]
  },
  {
   "cell_type": "code",
   "execution_count": null,
   "metadata": {},
   "outputs": [],
   "source": [
    "my_instance.instance_method(\"hi there\")"
   ]
  },
  {
   "cell_type": "markdown",
   "metadata": {},
   "source": [
    "Python’s [`classmethod`](https://docs.python.org/3/library/functions.html#classmethod) function changes the method definition to pass the class rather than  the instance to the method function. Let’s see how we would emulate this:"
   ]
  },
  {
   "cell_type": "code",
   "execution_count": null,
   "metadata": {},
   "outputs": [],
   "source": [
    "class ClassMethodMaker :\n",
    "\n",
    "    def __init__(self, func) :\n",
    "        self.__func__ = func\n",
    "    #end __init__\n",
    "\n",
    "    def __get__(self, instance, owner) :\n",
    "\n",
    "        def callfunc(*args, **kwargs) :\n",
    "            return \\\n",
    "                self.__func__(owner, *args, **kwargs)\n",
    "        #end callfunc\n",
    "\n",
    "    #begin __get__\n",
    "        return \\\n",
    "            callfunc\n",
    "    #end ___get__\n",
    "\n",
    "#end ClassMethodMaker\n",
    "\n",
    "MyClass.class_method = ClassMethodMaker(my_method)"
   ]
  },
  {
   "cell_type": "code",
   "execution_count": null,
   "metadata": {},
   "outputs": [],
   "source": [
    "my_instance.class_method"
   ]
  },
  {
   "cell_type": "code",
   "execution_count": null,
   "metadata": {},
   "outputs": [],
   "source": [
    "my_instance.class_method(\"hi there\")"
   ]
  },
  {
   "cell_type": "markdown",
   "metadata": {},
   "source": [
    "Of course, accessing it via the class works too:"
   ]
  },
  {
   "cell_type": "code",
   "execution_count": null,
   "metadata": {},
   "outputs": [],
   "source": [
    "MyClass.class_method"
   ]
  },
  {
   "cell_type": "code",
   "execution_count": null,
   "metadata": {},
   "outputs": [],
   "source": [
    "MyClass.class_method(\"hi there\")"
   ]
  },
  {
   "cell_type": "markdown",
   "metadata": {},
   "source": [
    "The behaviour of the [`staticmethod()`](https://docs.python.org/3/library/functions.html#staticmethod) decorator is simplest of all: its `__get__()` method simply ignores the passed class and instance arguments, and returns the original function."
   ]
  },
  {
   "cell_type": "code",
   "execution_count": null,
   "metadata": {},
   "outputs": [],
   "source": [
    "def orig_teststaticmethod() :\n",
    "    pass\n",
    "#end orig_teststaticmethod\n",
    "teststaticmethod = staticmethod(orig_teststaticmethod)"
   ]
  },
  {
   "cell_type": "code",
   "execution_count": null,
   "metadata": {},
   "outputs": [],
   "source": [
    "print(teststaticmethod.__get__(\"dummy\") is orig_teststaticmethod)\n",
    "# returns True"
   ]
  },
  {
   "cell_type": "markdown",
   "metadata": {},
   "source": [
    "OK, how about trying to emulate the behaviour of the `property()` built-in function?\n",
    "\n",
    "Here is a (partial) implementation of equivalent functionality (missing out the deletor and docstring):"
   ]
  },
  {
   "cell_type": "code",
   "execution_count": null,
   "metadata": {},
   "outputs": [],
   "source": [
    "class MyProp :\n",
    "\n",
    "    def __init__(self, getx = None, setx = None) :\n",
    "        self._getx = getx\n",
    "        self._setx = setx\n",
    "    #end __init__\n",
    "\n",
    "    def __get__(self, inst, owner) :\n",
    "        if self._getx == None :\n",
    "            raise RuntimeError(\"non-readable property\")\n",
    "        #end if\n",
    "        return \\\n",
    "            self._getx(inst)\n",
    "    #end __get__\n",
    "\n",
    "    def __set__(self, inst, value) :\n",
    "        if self._setx == None :\n",
    "            raise RuntimeError(\"non-writable property\")\n",
    "        #end if\n",
    "        self._setx(inst, value)\n",
    "    #end __set__\n",
    "\n",
    "    def setter(self, setx) :\n",
    "        self._setx = setx\n",
    "        return \\\n",
    "            self\n",
    "    #end setter\n",
    "\n",
    "#end MyProp"
   ]
  },
  {
   "cell_type": "markdown",
   "metadata": {},
   "source": [
    "Here is a use of `MyProp`. Note that the getter and setter deliberately modify the values set and returned, just to prove that they really are being called:"
   ]
  },
  {
   "cell_type": "code",
   "execution_count": null,
   "metadata": {},
   "outputs": [],
   "source": [
    "class MyPropTest :\n",
    "\n",
    "    def __init__(self) :\n",
    "        self._prop = \"\"\n",
    "    #end __init__\n",
    "\n",
    "    @MyProp\n",
    "    def prop(self) :\n",
    "        return \\\n",
    "            \"get \" + self._prop\n",
    "    #end prop\n",
    "\n",
    "    @prop.setter\n",
    "    def prop(self, value) :\n",
    "        self._prop = \"set \" + value\n",
    "    #end prop\n",
    "\n",
    "#end MyPropTest"
   ]
  },
  {
   "cell_type": "code",
   "execution_count": null,
   "metadata": {},
   "outputs": [],
   "source": [
    "m = MyPropTest()\n",
    "m.prop = \"newval\"\n",
    "print(m.prop)\n",
    "m.prop = \"new \" + m.prop\n",
    "print(m.prop)"
   ]
  },
  {
   "cell_type": "markdown",
   "metadata": {},
   "source": [
    "Directly accessing the value of the instance variable shows the difference:"
   ]
  },
  {
   "cell_type": "code",
   "execution_count": null,
   "metadata": {},
   "outputs": [],
   "source": [
    "m._prop"
   ]
  },
  {
   "cell_type": "markdown",
   "metadata": {},
   "source": [
    "## Summary ##\n",
    "\n",
    "It is easy to implement the behaviour of the `classmethod()`, `staticmethod()` and `property()` functions for yourself in pure Python. The only reasons for having them built into the language might be\n",
    "* Efficiency of not being implemented in interpreted Python.\n",
    "* They are considered such a fundamental part of the language that they should not even be part of some standard library module, but are built-in functions.\n",
    "\n",
    "## Further Reading ##\n",
    "\n",
    "It is instructive to read, in [Guido van Rossum’s own words](http://python-history.blogspot.com/2010/06/inside-story-on-new-style-classes.html), the rationale behind the concept of descriptors and the whole “new-style” class architecture. Those with long memories, stretching back to Python 2.*x*, may remember the original “old-style” classes, which had some deficiencies. In Python 3.*x*, *all* classes are “new-style”."
   ]
  },
  {
   "cell_type": "code",
   "execution_count": null,
   "metadata": {},
   "outputs": [],
   "source": []
  }
 ],
 "metadata": {
  "kernelspec": {
   "display_name": "Python 3",
   "language": "python",
   "name": "python3"
  },
  "language_info": {
   "codemirror_mode": {
    "name": "ipython",
    "version": 3
   },
   "file_extension": ".py",
   "mimetype": "text/x-python",
   "name": "python",
   "nbconvert_exporter": "python",
   "pygments_lexer": "ipython3",
   "version": "3.6.5rc1"
  }
 },
 "nbformat": 4,
 "nbformat_minor": 2
}
