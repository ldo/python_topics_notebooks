{
 "cells": [
  {
   "cell_type": "markdown",
   "metadata": {},
   "source": [
    "# Angle Units #\n",
    "\n",
    "**Radians** are the natural units for expressing angles in most trigonometrical calculations. These are the most convenient for expressing well-known identities such as\n",
    "\n",
    "$$e^{ix} = \\cos x + i \\sin x$$\n",
    "\n",
    "as well as Taylor series expansions of $\\cos x$ and $\\sin x$, and approximations such as\n",
    "\n",
    "$$\\tan x \\approx \\sin x \\approx x | x \\to 0$$\n",
    "\n",
    "On the other hand, humans typically find it easier to make sense of angles expressed in degrees, or fractions of a whole circle.\n",
    "\n",
    "Python deals with this in the same way as a lot of other languages: its [`math`](https://docs.python.org/3/library/math.html) module"
   ]
  },
  {
   "cell_type": "code",
   "execution_count": null,
   "metadata": {},
   "outputs": [],
   "source": [
    "import math"
   ]
  },
  {
   "cell_type": "markdown",
   "metadata": {},
   "source": [
    "provides trig functions that operate on (and return) angles in radians, as well as `degrees()` and `radians()` functions to convert from radians to degrees and back again."
   ]
  },
  {
   "cell_type": "code",
   "execution_count": null,
   "metadata": {},
   "outputs": [],
   "source": [
    "x = math.sin(math.radians(90))\n",
    "θ = math.asin(x)\n",
    "print(\"%.3f radians = %.3f°\" % (θ, math.degrees(θ)))"
   ]
  },
  {
   "cell_type": "markdown",
   "metadata": {},
   "source": [
    "Supposing you wanted to work in fractions of a circle instead of degrees. After all, signal frequencies are commonly expressed in units of _hertz_ , which are cycles per second, not degrees per second. Another unit seen occasionally is _gradians_ , where a right angle (90°) is 100 gradians.\n",
    "\n",
    "Following the usual scheme, each such unit would require a pair of conversion functions: one to convert to the unit from radians, and one to go the other way.\n",
    "\n",
    "A simpler scheme would be to define a single _conversion factor_ for each unit."
   ]
  },
  {
   "cell_type": "code",
   "execution_count": null,
   "metadata": {},
   "outputs": [],
   "source": [
    "from math import \\\n",
    "    pi as π\n",
    "\n",
    "DEG = π / 180\n",
    "CIRCLE = 2 * π"
   ]
  },
  {
   "cell_type": "markdown",
   "metadata": {},
   "source": [
    "Now to convert a _value_ from _unit_ to radians, simply write the expression “_value_ * _unit_ ”, and to convert radians to the _unit_ , just write “_value_ / _unit_ ”."
   ]
  },
  {
   "cell_type": "code",
   "execution_count": null,
   "metadata": {},
   "outputs": [],
   "source": [
    "x = math.sin(90 * DEG)\n",
    "θ = math.asin(x)\n",
    "print(\"%.3f radians = %.3f°\" % (θ, θ / DEG))"
   ]
  },
  {
   "cell_type": "code",
   "execution_count": null,
   "metadata": {},
   "outputs": [],
   "source": [
    "x = math.sin(CIRCLE / 4)\n",
    "θ = math.asin(x)\n",
    "print(\"%.3f radians = %.3f circle\" % (θ, θ / CIRCLE))"
   ]
  },
  {
   "cell_type": "markdown",
   "metadata": {},
   "source": [
    "Every new unit you want to add just requires the definition of one conversion factor:"
   ]
  },
  {
   "cell_type": "code",
   "execution_count": null,
   "metadata": {},
   "outputs": [],
   "source": [
    "GRAD = π / 200"
   ]
  },
  {
   "cell_type": "markdown",
   "metadata": {},
   "source": [
    "While all angles are held internally as radians, converting from one non-radian unit to another is easy:"
   ]
  },
  {
   "cell_type": "code",
   "execution_count": null,
   "metadata": {},
   "outputs": [],
   "source": [
    "θ = 0.25 * CIRCLE\n",
    "print(\"%.3f grads = %.3f degrees\" % (θ / GRAD, θ / DEG))"
   ]
  },
  {
   "cell_type": "markdown",
   "metadata": {},
   "source": [
    "So when accepting an input angle from the user, **multiply** the entered value by the chosen unit conversion factor to convert to radians for internal manipulation and storage. And when outputting an angle to the user, **divide** the radians value by the chosen unit conversion factor to display in those units.\n",
    "\n",
    "And for completeness (and consistency of coding), if you want an explicit conversion factor for the case where the user chooses to operate in radians, just define"
   ]
  },
  {
   "cell_type": "code",
   "execution_count": null,
   "metadata": {},
   "outputs": [],
   "source": [
    "RAD = 1"
   ]
  },
  {
   "cell_type": "code",
   "execution_count": null,
   "metadata": {},
   "outputs": [],
   "source": []
  }
 ],
 "metadata": {
  "kernelspec": {
   "display_name": "Python 3",
   "language": "python",
   "name": "python3"
  },
  "language_info": {
   "codemirror_mode": {
    "name": "ipython",
    "version": 3
   },
   "file_extension": ".py",
   "mimetype": "text/x-python",
   "name": "python",
   "nbconvert_exporter": "python",
   "pygments_lexer": "ipython3",
   "version": "3.9.7"
  }
 },
 "nbformat": 4,
 "nbformat_minor": 1
}
