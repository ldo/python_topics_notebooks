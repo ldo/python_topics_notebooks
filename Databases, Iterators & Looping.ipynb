{
 "cells": [
  {
   "cell_type": "markdown",
   "metadata": {},
   "source": [
    "# Databases, Iterators &amp; Looping #\n",
    "\n",
    "This notebook will talk about how I do looping over database queries.\n",
    "\n",
    "The database code will use the [APSW](https://rogerbinns.github.io/apsw/) wrapper around the [SQLite](https://sqlite.org/index.html) DBMS.\n",
    "\n",
    "Make sure these are installed before executing the following imports:"
   ]
  },
  {
   "cell_type": "code",
   "execution_count": null,
   "metadata": {},
   "outputs": [],
   "source": [
    "import sys\n",
    "import os\n",
    "import apsw as sqlite\n"
   ]
  },
  {
   "cell_type": "markdown",
   "metadata": {},
   "source": [
    "Create the temporary example database, using data extracted from [Wikipedia](https://en.wikipedia.org/wiki/Natural_satellite#Natural_satellites_of_the_Solar_System):"
   ]
  },
  {
   "cell_type": "code",
   "execution_count": null,
   "metadata": {},
   "outputs": [],
   "source": [
    "db = sqlite.Connection \\\n",
    "  (\n",
    "    \":memory:\",\n",
    "    flags = sqlite.SQLITE_OPEN_READWRITE | sqlite.SQLITE_OPEN_CREATE\n",
    "  )\n",
    "\n",
    "planets = \\\n",
    "    [\n",
    "        (1, \"Mercury\"),\n",
    "        (2, \"Venus\"),\n",
    "        (3, \"Terra\"),\n",
    "        (4, \"Mars\"),\n",
    "        (5, \"Jupiter\"),\n",
    "        (6, \"Saturn\"),\n",
    "        (7, \"Uranus\"),\n",
    "        (8, \"Neptune\"),\n",
    "    ]\n",
    "moons = \\\n",
    "    [ # only a partial list!\n",
    "        (1, \"Luna\", 3),\n",
    "        (2, \"Deimos\", 4),\n",
    "        (3, \"Phobos\", 4),\n",
    "        (4, \"Callisto\", 5),\n",
    "        (5, \"Europa\", 5),\n",
    "        (6, \"Ganymede\", 5),\n",
    "        (7, \"Io\", 5),\n",
    "        (8, \"Dione\", 6),\n",
    "        (9, \"Hyperion\", 6),\n",
    "        (10, \"Iapetus\", 6),\n",
    "        (11, \"Mimas\", 6),\n",
    "        (12, \"Enceladus\", 6),\n",
    "        (13, \"Rhea\", 6),\n",
    "        (14, \"Tethys\", 6),\n",
    "        (15, \"Titan\", 6),\n",
    "        (16, \"Ariel\", 7),\n",
    "        (17, \"Miranda\", 7),\n",
    "        (18, \"Oberon\", 7),\n",
    "        (19, \"Titania\", 7),\n",
    "        (20, \"Umbriel\", 7),\n",
    "        (21, \"Nereid\", 8),\n",
    "        (22, \"Triton\", 8),\n",
    "    ]\n",
    "\n",
    "cu = db.cursor()\n",
    "cu.execute \\\n",
    "  (\n",
    "    \"create table planets\\n\"\n",
    "    \"  (\\n\"\n",
    "    \"    id integer primary key,\\n\"\n",
    "    \"    name text\\n\"\n",
    "    \"  )\\n\"\n",
    "  )\n",
    "cu.execute \\\n",
    "  (\n",
    "    \"create table moons\\n\"\n",
    "    \"  (\\n\"\n",
    "    \"    id integer primary key,\\n\"\n",
    "    \"    name text,\\n\"\n",
    "    \"    parent integer\\n\"\n",
    "    \"  )\\n\"\n",
    "  )\n",
    "for item in planets :\n",
    "    cu.execute(\"insert into planets(id, name) values (?, ?)\", item)\n",
    "#end for\n",
    "for item in moons :\n",
    "    cu.execute \\\n",
    "      (\n",
    "        \"insert into moons(id, name, parent) values (?, ?, ?)\",\n",
    "        item\n",
    "      )\n",
    "#end for\n",
    "cu.close()\n",
    "del cu"
   ]
  },
  {
   "cell_type": "markdown",
   "metadata": {},
   "source": [
    "For convenient iteration over query results, I like to use the following function:"
   ]
  },
  {
   "cell_type": "code",
   "execution_count": null,
   "metadata": {},
   "outputs": [],
   "source": [
    "def db_iter(conn, cmd, mapfn = lambda x : x) :\n",
    "    \"executes cmd on a new cursor from connection conn and\" \\\n",
    "    \" yields the results in turn.\"\n",
    "    cu = conn.cursor()\n",
    "    result = cu.execute(cmd)\n",
    "    while True :\n",
    "        try :\n",
    "            yield mapfn(next(result))\n",
    "        except StopIteration :\n",
    "            break\n",
    "        #end try\n",
    "    #end while\n",
    "#end db_iter\n"
   ]
  },
  {
   "cell_type": "markdown",
   "metadata": {},
   "source": [
    "This wraps up the common tasks of creating a cursor, executing a query, and then retrieving the results. It also has the option of putting each result tuple through a mapping function; we will see the usefulness of this in a moment.\n",
    "\n",
    "For a simple example, here’s a list of all the planets in alphabetical order:"
   ]
  },
  {
   "cell_type": "code",
   "execution_count": null,
   "metadata": {},
   "outputs": [],
   "source": [
    "list(db_iter(db, \"select name from planets order by name\"))"
   ]
  },
  {
   "cell_type": "markdown",
   "metadata": {},
   "source": [
    "Since in this example each record only contains a single field, let’s use the `mapfn` option to strip the field value out of the result tuples:"
   ]
  },
  {
   "cell_type": "code",
   "execution_count": null,
   "metadata": {},
   "outputs": [],
   "source": [
    "list(db_iter\n",
    "  (\n",
    "    db,\n",
    "    \"select name from planets order by name\",\n",
    "    mapfn = lambda x : x[0]\n",
    "  ))"
   ]
  },
  {
   "cell_type": "markdown",
   "metadata": {},
   "source": [
    "It is easy to build other convenience routines on top of the `db_iter` workhorse. For example, another common task is retrieving counts of records:"
   ]
  },
  {
   "cell_type": "code",
   "execution_count": null,
   "metadata": {},
   "outputs": [],
   "source": [
    "def db_count(db, criterion) :\n",
    "    return \\\n",
    "        next(db_iter(db, \"select count(*) from \" + criterion))[0]\n",
    "#end db_count"
   ]
  },
  {
   "cell_type": "markdown",
   "metadata": {},
   "source": [
    "For instance, how many moons have “ion” in their name?"
   ]
  },
  {
   "cell_type": "code",
   "execution_count": null,
   "metadata": {},
   "outputs": [],
   "source": [
    "db_count(db, \"moons where name like '%ion%'\")"
   ]
  },
  {
   "cell_type": "markdown",
   "metadata": {},
   "source": [
    "Now, let’s do a complete listing of all the planets and their moons. Here’s an initial attempt, outputting a nicely HTML-formatted table. Note how the query uses a `left join`; what would happen if we used, say, an `inner join`?"
   ]
  },
  {
   "cell_type": "code",
   "execution_count": null,
   "metadata": {},
   "outputs": [],
   "source": [
    "import io\n",
    "import html\n",
    "from IPython.display import \\\n",
    "    HTML"
   ]
  },
  {
   "cell_type": "code",
   "execution_count": null,
   "metadata": {},
   "outputs": [],
   "source": [
    "out = io.StringIO()\n",
    "out.write(\"<TABLE>\\n\")\n",
    "out.write(\"<TR><TH>Planet</TH><TH>Moon</TH></TR>\\n\")\n",
    "for item in db_iter \\\n",
    "  (\n",
    "    db,\n",
    "    \"select planets.name, moons.name\"\n",
    "    \" from planets left join moons on planets.id = moons.parent\"\n",
    "    \" order by planets.name, moons.name\"\n",
    "  ) \\\n",
    ":\n",
    "    out.write(\"<TR><TD>\")\n",
    "    out.write(html.escape(item[0]))\n",
    "    out.write(\"</TD><TD>\")\n",
    "    if item[1] != None :\n",
    "        out.write(html.escape(item[1]))\n",
    "    else :\n",
    "        out.write(\"<I>(none)</I>\")\n",
    "    #end if\n",
    "    out.write(\"</TD></TR>\\n\")\n",
    "#end for\n",
    "out.write(\"</TABLE>\\n\")\n",
    "HTML(out.getvalue())"
   ]
  },
  {
   "cell_type": "markdown",
   "metadata": {},
   "source": [
    "That has all the info, but it can be presented better. To start with, let’s only output the planet name for its first entry line. How can we do that? Also, just to complicate things a little, let’s add a count line after the last moon for each planet, showing how many moons there were.\n",
    "\n",
    "The basic outline of the reporting loop will become like this:\n",
    "\n",
    "    create database query iterator\n",
    "    loop\n",
    "        get next item from iterator\n",
    "        if item is None or planet has changed :\n",
    "            output count line for current planet\n",
    "            indicate a change to current planet\n",
    "        if item is None :\n",
    "            terminate loop\n",
    "        output first/next line for current planet,\n",
    "            incrementing count as appropriate\n",
    "    end loop\n",
    "\n",
    "Here is the actual code:"
   ]
  },
  {
   "cell_type": "code",
   "execution_count": null,
   "metadata": {},
   "outputs": [],
   "source": [
    "out = io.StringIO()\n",
    "out.write(\"<TABLE>\\n\")\n",
    "out.write(\"<TR><TH>Planet</TH><TH>Moon</TH></TR>\\n\")\n",
    "items_iter = db_iter \\\n",
    "  (\n",
    "    db,\n",
    "    \"select planets.name, moons.name\"\n",
    "    \" from planets left join moons on planets.id = moons.parent\"\n",
    "    \" order by planets.name, moons.name\"\n",
    "  )\n",
    "cur_planet = None\n",
    "while True :\n",
    "    item = next(items_iter, None)\n",
    "    if item == None or cur_planet != None and item[0] != cur_planet :\n",
    "        if cur_planet != None :\n",
    "            out.write \\\n",
    "              (\n",
    "                \"<TR><TD><I>Count:</I></TD><TD>%d</TD></TR>\\n\" % count\n",
    "              )\n",
    "            cur_planet = None\n",
    "        #end if\n",
    "        if item == None :\n",
    "            break\n",
    "    #end if\n",
    "    out.write(\"<TR><TD>\")\n",
    "    if cur_planet == None :\n",
    "        # first moon for next planet\n",
    "        cur_planet = item[0]\n",
    "        count = 0\n",
    "        out.write(\"<B>\" + html.escape(item[0]) + \"</B>\")\n",
    "    else :\n",
    "        # second or subsequent moon, don’t repeat planet name\n",
    "        out.write(\"&nbsp;\")\n",
    "    #end if\n",
    "    out.write(\"</TD><TD>\")\n",
    "    if item[1] != None :\n",
    "        # there is a moon\n",
    "        out.write(html.escape(item[1]))\n",
    "        count += 1\n",
    "    else :\n",
    "        # that’s no moon\n",
    "        out.write(\"<I>(none)</I>\")\n",
    "    #end if\n",
    "    out.write(\"</TD></TR>\\n\")\n",
    "#end while\n",
    "out.write(\"</TABLE>\\n\")\n",
    "HTML(out.getvalue())\n"
   ]
  },
  {
   "cell_type": "markdown",
   "metadata": {},
   "source": [
    "This kind of reporting across two tables, where entries in a child table are grouped according to matching values for a field in the parent table, has various names, such as a *level break* or *break field*. The same basic loop structure can be used in a lot of these cases."
   ]
  },
  {
   "cell_type": "code",
   "execution_count": null,
   "metadata": {},
   "outputs": [],
   "source": []
  }
 ],
 "metadata": {
  "kernelspec": {
   "display_name": "Python 3",
   "language": "python",
   "name": "python3"
  },
  "language_info": {
   "codemirror_mode": {
    "name": "ipython",
    "version": 3
   },
   "file_extension": ".py",
   "mimetype": "text/x-python",
   "name": "python",
   "nbconvert_exporter": "python",
   "pygments_lexer": "ipython3",
   "version": "3.7.3rc1"
  }
 },
 "nbformat": 4,
 "nbformat_minor": 2
}
