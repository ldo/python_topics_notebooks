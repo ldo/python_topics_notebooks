{
 "cells": [
  {
   "cell_type": "markdown",
   "metadata": {},
   "source": [
    "# Simple Code-Shortening Idioms #\n",
    "\n",
    "A collection of some very simple techniques for performing common tasks, that hopefully you will find useful."
   ]
  },
  {
   "cell_type": "markdown",
   "metadata": {},
   "source": [
    "## Conditionally Deleting A Dictionary Entry ##\n",
    "\n",
    "You may know that you can delete a dictionary entry with\n",
    "\n",
    "    del dict[key]\n",
    "\n",
    "but this raises a `KeyError` exception if `key` is not present in the dictionary. So how do you delete an entry _only if it is present_ ? This\n",
    "\n",
    "    if key in dict :\n",
    "        del dict[key]\n",
    "    #end if\n",
    "\n",
    "seems unwieldy. But there is a shorter way. The `dict` class defines [a pop method](https://docs.python.org/3/library/stdtypes.html#mapping-types-dict) that removes and returns an entry with a specified key; this call also raises `KeyError` if the key is not present, unless you specify a default value that is returned in this case. So, to delete an entry if present and avoid any error from its absence, pass any dummy default value (e.g. `None`) and ignore the result:\n",
    "\n",
    "    dict.pop(key, None)"
   ]
  },
  {
   "cell_type": "markdown",
   "metadata": {},
   "source": [
    "## Conditionally Looking Up A Dictionary Entry ##\n",
    "\n",
    "(This one seems so obvious, yet I have seen code that was clearly written without knowing it could be done this way.)\n",
    "\n",
    "If you try to access a dictionary entry `dict[key]` that does not exist, you will get a `KeyError` exception. If you want to get the entry if it is there, but do something else if it is not, I have seen code like\n",
    "\n",
    "    if key in dict :\n",
    "        val = dict[key]\n",
    "        ... do something with val ...\n",
    "    else :\n",
    "        ... do something else ...\n",
    "    #end if\n",
    "\n",
    "There is a more direct way. The `dict` class defines a `get()` method, which returns a default value if the key is not present. You can specify your own default value, but if not, the default for the default is `None`. _E.g._\n",
    "\n",
    "    val = dict.get(key)\n",
    "    if val != None :\n",
    "        ... do something with val ...\n",
    "    else :\n",
    "        ... do something else ...\n",
    "    #end if\n"
   ]
  },
  {
   "cell_type": "markdown",
   "metadata": {},
   "source": [
    "## Testing Mask Bits ##\n",
    "\n",
    "You may not have immediately noticed from reading the Python language spec, but [binary bitwise operators have higher precedence than comparisons](https://docs.python.org/3/reference/expressions.html#binary-bitwise-operations). This differs from C and most other languages that follow C conventions. You may think this could easily trip up someone transliterating expressions from C or other such languages to Python, but I am not aware of any real-world situation where this could be a problem.\n",
    "\n",
    "What it _does_ mean is that you can write bitmask tests with fewer parentheses. For example, in C you have to write things like\n",
    "\n",
    "    («flags» & «mask») != 0\n",
    "    («flags» & «mask1») == «mask2»\n",
    "\n",
    "but in Python these parentheses are unnecessary:\n",
    "\n",
    "    «flags» & «mask» != 0\n",
    "    «flags» & «mask1» == «mask2»\n"
   ]
  },
  {
   "cell_type": "markdown",
   "metadata": {},
   "source": [
    "## Loading A File Into Memory ##\n",
    "\n",
    "Opening a file read-only and loading its entire contents into memory can be done with one line:\n",
    "\n",
    "    string_contents = open(«filename», \"rt\").read()\n",
    "\n",
    "or\n",
    "\n",
    "    binary_contents = open(«filename», \"rb\").read()\n",
    "\n",
    "But what about closing the file after reading? Ah, the nice thing is, CPython manages objects by reference-counting, so once the reference count of the `file` object reaches zero, it is automatically closed.\n"
   ]
  },
  {
   "cell_type": "markdown",
   "metadata": {},
   "source": [
    "## Avoiding The `with`-Statement ##\n",
    "\n",
    "`with`-statements have their uses, for example for managing memory allocated by some lower-level library that is not creating Python objects. But I often see them used with files and temporary directories, e.g.\n",
    "\n",
    "    with open(«filename», «mode») as fileobj :\n",
    "        ... do something with fileobj ...\n",
    "    #end with\n",
    "\n",
    "or\n",
    "\n",
    "    with tempfile.TemporaryDirectory() as tempdir :\n",
    "        ... create and manipulate various files in tempdir ...\n",
    "    #end with\n",
    "\n",
    "The aim is that the `with`-statement guarantees that, in any situation short of process deletion or complete runtime context meltdown, the file will be closed and the temporary directory (and its contents) cleaned up.\n",
    "\n",
    "Trouble is, this is not necessarily a good thing.\n",
    "\n",
    "For files opened read-only, this is unnecessary anyway, because as mentioned in the previous section, the file will be automatically closed when the last reference to the file object disappears.\n",
    "\n",
    "For files opened for writing, I always have this concern about notifying the user as far as possible about any I/O errors. Because to fail silently could lead to data loss, where the user assumes that data has been saved, but it has not. So I always like to explicitly close such files:\n",
    "\n",
    "    fileobj = open(«filename» «writemode»)\n",
    "    .... fileobj.write(«data») ...\n",
    "    fileobj.close()\n",
    "\n",
    "That way any errors on flushing that last bufferful get a chance to be reported on the `close()` call. If the program never gets that far, then the user will not be misled by seeing a `with`-statement into assuming that any meaningful cleanup is going to be done.\n",
    "\n",
    "For temporary directories, the `with`-statement guarantees as far as possible that the temporary directory will disappear, even if an exception occurs. Trouble is, if an exception occurs, the contents of that directory could be useful for debugging purposes. So, as messy as it may appear, I like to explicitly clean up the directory myself:\n",
    "\n",
    "    tempdir = tempfile.mkdtemp()\n",
    "    ... create and manipulate various files in tempdir ...\n",
    "    shutil.rmtree(tempdir)\n",
    "\n",
    "So now the temporary files only disappear if all goes well. If you see them piling up, then there is something wrong with your code!"
   ]
  },
  {
   "cell_type": "code",
   "execution_count": null,
   "metadata": {},
   "outputs": [],
   "source": []
  },
  {
   "cell_type": "code",
   "execution_count": null,
   "metadata": {},
   "outputs": [],
   "source": []
  }
 ],
 "metadata": {
  "kernelspec": {
   "display_name": "Python 3",
   "language": "python",
   "name": "python3"
  },
  "language_info": {
   "codemirror_mode": {
    "name": "ipython",
    "version": 3
   },
   "file_extension": ".py",
   "mimetype": "text/x-python",
   "name": "python",
   "nbconvert_exporter": "python",
   "pygments_lexer": "ipython3",
   "version": "3.8.6"
  }
 },
 "nbformat": 4,
 "nbformat_minor": 1
}
