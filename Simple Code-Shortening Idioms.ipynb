{
 "cells": [
  {
   "cell_type": "markdown",
   "metadata": {},
   "source": [
    "# Simple Code-Shortening Idioms #\n",
    "\n",
    "A collection of some very simple techniques for performing common tasks, that hopefully you will find useful."
   ]
  },
  {
   "cell_type": "markdown",
   "metadata": {},
   "source": [
    "## Conditionally Deleting A Dictionary Entry ##\n",
    "\n",
    "You may know that you can delete a dictionary entry with\n",
    "\n",
    "    del dict[key]\n",
    "\n",
    "but this raises a `KeyError` exception if `key` is not present in the dictionary. So how do you delete an entry _only if it is present_ ? This\n",
    "\n",
    "    if key in dict :\n",
    "        del dict[key]\n",
    "    #end if\n",
    "\n",
    "seems unwieldy. But there is a shorter way. The `dict` class defines [a pop method](https://docs.python.org/3/library/stdtypes.html#mapping-types-dict) that removes and returns an entry with a specified key; this call also raises `KeyError` if the key is not present, unless you specify a default value that is returned in this case. So, to delete an entry if present and avoid any error from its absence, pass any dummy default value (e.g. `None`) and ignore the result:\n",
    "\n",
    "    dict.pop(key, None)"
   ]
  },
  {
   "cell_type": "markdown",
   "metadata": {},
   "source": [
    "## Testing Mask Bits ##\n",
    "\n",
    "You may not have immediately noticed from reading the Python language spec, but [binary bitwise operators have higher precedence than comparisons](https://docs.python.org/3/reference/expressions.html#binary-bitwise-operations). This differs from C and most other languages that follow C conventions. You may think this could easily trip up someone transliterating expressions from C or other such languages to Python, but I am not aware of any real-world situation where this could be a problem.\n",
    "\n",
    "What it _does_ mean is that you can write bitmask tests with fewer parentheses. For example, in C you have to write things like\n",
    "\n",
    "    («flags» & «mask») != 0\n",
    "    («flags» & «mask1») == «mask2»\n",
    "\n",
    "but in Python these parentheses are unnecessary:\n",
    "\n",
    "    «flags» & «mask» != 0\n",
    "    «flags» & «mask1» == «mask2»\n"
   ]
  },
  {
   "cell_type": "code",
   "execution_count": null,
   "metadata": {},
   "outputs": [],
   "source": []
  }
 ],
 "metadata": {
  "kernelspec": {
   "display_name": "Python 3",
   "language": "python",
   "name": "python3"
  },
  "language_info": {
   "codemirror_mode": {
    "name": "ipython",
    "version": 3
   },
   "file_extension": ".py",
   "mimetype": "text/x-python",
   "name": "python",
   "nbconvert_exporter": "python",
   "pygments_lexer": "ipython3",
   "version": "3.8.6rc1"
  }
 },
 "nbformat": 4,
 "nbformat_minor": 1
}
