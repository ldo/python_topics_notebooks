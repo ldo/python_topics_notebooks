{
 "cells": [
  {
   "cell_type": "markdown",
   "metadata": {},
   "source": [
    "# Defining (Almost) Custom Operators #\n",
    "\n",
    "Python lets you add [custom overloads](https://docs.python.org/3/reference/datamodel.html#special-method-names) for its built-in operators, but it doesn’t let you create entirely new operators.\n",
    "\n",
    "For example, in computer graphics, it is common to perform arithmetic operations on 3D [vectors](https://en.wikipedia.org/wiki/Vector_space), representing positions, movements and directions in space. Commonly found among these operations are 3 different kinds of multiplication. It is natural to overload Python’s “`*`” operator for elementwise multiplication of two vectors, or multiplication of a vector by a scalar, while the “`@`” operator added in version 3.5 was specifically intended for representing the [dot product](https://en.wikipedia.org/wiki/Dot_product). However, this still leaves no suitable operator to use for the [cross product](https://en.wikipedia.org/wiki/Cross_product). The conventional mathematical symbol for the cross product, “`×`”, is not (currently) part of valid Python syntax. One could suggest picking some other Python operator at random, but this raises the surprise factor, as well as the inconvenience of the wrong operator precedence.\n",
    "\n",
    "So the usual approach is to give up, and define a method with a boring name like “`cross()`”, so that a mathematical expression like “$v_1 \\times v_2$” gets translated in Python as “`v1.cross(v2)`”.\n",
    "\n",
    "But there is a way to do better than this.\n"
   ]
  },
  {
   "cell_type": "markdown",
   "metadata": {},
   "source": [
    "To make things more concrete, let us start by defining a very basic `Vector` class, with just enough functionality to illustrate the issues.\n",
    "\n",
    "Here it is, with a constructor, a representation method, and elementwise multiplication defined via `__mul__()` and `__rmul__()` methods:"
   ]
  },
  {
   "cell_type": "code",
   "execution_count": null,
   "metadata": {},
   "outputs": [],
   "source": [
    "from numbers import \\\n",
    "    Real\n",
    "\n",
    "class Vector :\n",
    "\n",
    "    def __init__(self, x, y, z) :\n",
    "        self.x = x\n",
    "        self.y = y\n",
    "        self.z = z\n",
    "    #end __init__\n",
    "\n",
    "    def __repr__(self) :\n",
    "        return \"Vector(%s, %s, %s)\" % (self.x, self.y, self.z)\n",
    "    #end __repr__\n",
    "\n",
    "    def __mul__(this, that) :\n",
    "        \"by-element multiplication.\"\n",
    "        if isinstance(that, Vector) :\n",
    "            result = Vector(this.x * that.x, this.y * that.y, this.z * that.z)\n",
    "        elif isinstance(that, Real) :\n",
    "            result = Vector(this.x * that, this.y * that, this.z * that)\n",
    "        else :\n",
    "            result = NotImplemented\n",
    "        #end if\n",
    "        return result\n",
    "    #end __mul__\n",
    "    __rmul__ = __mul__\n",
    "\n",
    "#end Vector"
   ]
  },
  {
   "cell_type": "markdown",
   "metadata": {},
   "source": [
    "This is sufficient to create some `Vector` objects and demonstrate that multiplication by a scalar works either way round:"
   ]
  },
  {
   "cell_type": "code",
   "execution_count": null,
   "metadata": {},
   "outputs": [],
   "source": [
    "v1 = Vector(2, 3, 4)\n",
    "v2 = Vector(5, 4, 3)\n",
    "print(v1 * v2, v1 * 3, 3 * v1)"
   ]
  },
  {
   "cell_type": "markdown",
   "metadata": {},
   "source": [
    "Similarly, we can easily define a `__matmul__()` method to overload the “`@`” operator. But while\n",
    "\n",
    "    v1 * v2\n",
    "\n",
    "and\n",
    "\n",
    "    v1 @ v2\n",
    "\n",
    "are syntactically valid expressions in Python,\n",
    "\n",
    "    v1 × v2\n",
    "\n",
    "is not. However, with suitable definitions behind it, this would be valid:\n",
    "\n",
    "    v1.cross * v2\n",
    "\n",
    "That at least avoids the parenthesis clutter of a conventional method call. Now, all we have to do is some strategic rearrangement of the whitespace, to turn it into\n",
    "\n",
    "    v1 .cross* v2\n",
    "\n",
    "and now we have something that, while maybe not as concise as the genuine mathematical “$\\times$” operator symbol, at least gets us pretty close!\n",
    "\n",
    "So how do we get this to work? Clearly the `v1.cross` part needs to return a special wrapper for the `v1` object, with its own definition of the “`*`” operator as the cross product. And it needs to do this without the benefit of any explicit pair of parentheses indicating a method call. The custom multiplication method on this wrapper can then operate on that and `v2`, and return a regular `Vector` object as its result.\n",
    "\n",
    "The obvious way to implement the `.cross` member is as a [descriptor](https://docs.python.org/3/reference/datamodel.html#descriptors). It would be nice to simply write the `.cross()` method in the conventional way, then apply some sort of decorator to turn it into the right sort of descriptor. Here is such a decorator:"
   ]
  },
  {
   "cell_type": "code",
   "execution_count": null,
   "metadata": {},
   "outputs": [],
   "source": [
    "def productop(meth) :\n",
    "\n",
    "    class methodwrap :\n",
    "\n",
    "        def __init__(self, instance) :\n",
    "            self.instance = instance\n",
    "        #end __init__\n",
    "\n",
    "        def __call__(self, other) :\n",
    "            return meth(self.instance, other)\n",
    "        #end __call__\n",
    "\n",
    "        def __mul__(self, other) :\n",
    "            return meth(self.instance, other)\n",
    "        #end __mul__\n",
    "\n",
    "    #end methodwrap\n",
    "\n",
    "    class methodprop :\n",
    "\n",
    "        def __get__(self, instance, owner) :\n",
    "            return methodwrap(instance)\n",
    "        #end ___get__\n",
    "\n",
    "    #end methodprop\n",
    "\n",
    "#begin productop\n",
    "    methodwrap.__name__ = meth.__name__\n",
    "    methodwrap.__doc__ = meth.__doc__\n",
    "    return methodprop()\n",
    "#end productop\n"
   ]
  },
  {
   "cell_type": "markdown",
   "metadata": {},
   "source": [
    "Notice how the decorator defines two classes: one is the descriptor, which when invoked returns an instance of the other, which is the wrapper. As well as the `__mul__()` method to implement the custom overload for “`*`”, the wrapper class also defines a `__call__()` method to allow the original decorated function to be invoked using conventional method-call syntax.\n",
    "\n",
    "How would we use it? Here is a new version of the `Vector` class, adding a cross-product method which is subjected to our custom decorator:"
   ]
  },
  {
   "cell_type": "code",
   "execution_count": null,
   "metadata": {},
   "outputs": [],
   "source": [
    "class Vector :\n",
    "\n",
    "    def __init__(self, x, y, z) :\n",
    "        self.x = x\n",
    "        self.y = y\n",
    "        self.z = z\n",
    "    #end __init__\n",
    "\n",
    "    def __repr__(self) :\n",
    "        return \"Vector(%s, %s, %s)\" % (self.x, self.y, self.z)\n",
    "    #end __repr__\n",
    "\n",
    "    def __mul__(this, that) :\n",
    "        \"by-element multiplication.\"\n",
    "        if isinstance(that, Vector) :\n",
    "            result = Vector(this.x * that.x, this.y * that.y, this.z * that.z)\n",
    "        elif isinstance(that, Real) :\n",
    "            result = Vector(this.x * that, this.y * that, this.z * that)\n",
    "        else :\n",
    "            result = NotImplemented\n",
    "        #end if\n",
    "        return result\n",
    "    #end __mul__\n",
    "    __rmul__ = __mul__\n",
    "\n",
    "    @productop\n",
    "    def cross(this, that) :\n",
    "        \"cross product.\"\n",
    "        if not isinstance(that, Vector) :\n",
    "            raise TypeError(\"cross product only defined between two Vectors\")\n",
    "        #end if\n",
    "        return \\\n",
    "            Vector \\\n",
    "              (\n",
    "                this.y * that.z - this.z * that.y,\n",
    "                this.z * that.x - this.x * that.z,\n",
    "                this.x * that.y - this.y * that.x,\n",
    "              )\n",
    "    #end cross\n",
    "\n",
    "#end Vector"
   ]
  },
  {
   "cell_type": "markdown",
   "metadata": {},
   "source": [
    "Conventional method-call syntax still works:"
   ]
  },
  {
   "cell_type": "code",
   "execution_count": null,
   "metadata": {},
   "outputs": [],
   "source": [
    "v1 = Vector(2, 3, 4)\n",
    "v2 = Vector(5, 4, 3)\n",
    "print(v1.cross(v2))"
   ]
  },
  {
   "cell_type": "markdown",
   "metadata": {},
   "source": [
    "But now we can also use our special operator-like syntax!"
   ]
  },
  {
   "cell_type": "code",
   "execution_count": null,
   "metadata": {},
   "outputs": [],
   "source": [
    "print(v1 .cross* v2)"
   ]
  },
  {
   "cell_type": "markdown",
   "metadata": {},
   "source": [
    "I was hunting around for another character to use that would look more like some kind of mathematical operator, yet be acceptable to Python in an identifier, and I found “ꚛ” U+A69B CYRILLIC SMALL LETTER CROSSED O. That lets you write an expression like this:\n",
    "\n",
    "    v1 .ꚛ* v2\n",
    "\n",
    "Can you find any others?\n",
    "\n",
    "Of course, those who actually use such a letter in their written language might be wondering what all the fuss is about ...\n",
    "\n",
    "This basic technique could be extended to define any number of custom operators, using all the built-in dyadic ones that Python provides. For example, in addition to basic operations on your custom objects such as\n",
    "\n",
    "    x1 + x2\n",
    "    x1 - x2\n",
    "    x1 * x2\n",
    "    x1 / x2\n",
    "\n",
    "one could add a whole other set with entirely different meanings, such as\n",
    "\n",
    "    x1 .op1+ x2\n",
    "    x1 .op1- x2\n",
    "    x1 .op1* x2\n",
    "    x1 .op1/ x2\n",
    "\n",
    "and then yet another set on top of this, doing even more strange things:\n",
    "\n",
    "    x1 .op2+ x2\n",
    "    x1 .op2- x2\n",
    "    x1 .op2* x2\n",
    "    x1 .op2/ x2\n",
    "\n",
    "In short, you could get entirely carried away."
   ]
  },
  {
   "cell_type": "markdown",
   "metadata": {},
   "source": [
    "## But Wait, There’s More ##\n",
    "\n",
    "But there is a problem with the `productop` decorator as defined above: it doesn’t cope quite as gracefully if you need to perform more than one invocation of the custom operator in a chain. For example,\n",
    "\n",
    "$$v_1 \\times v_2 \\times v_3$$\n",
    "\n",
    "needs to be expressed as\n",
    "\n",
    "    (v1 .cross* v2) .cross* v3\n",
    "\n",
    "and we are back to needing extra parentheses again. How can we fix this? Clearly we need to be able to write\n",
    "\n",
    "    v1 .cross* v2 .cross* v3\n",
    "\n",
    "which would be implicitly parenthesized as\n",
    "\n",
    "    (v1.cross * v2.cross) * v3\n",
    "\n",
    "which means our wrapper’s `__mul__()` method needs to recognize when the right-hand operand is also of wrapper type, and return a wrapped `Vector`, rather than a regular `Vector`, in that situation. Here is a reworked `productop` decorator that does that (note the difference in the definition of `__mul__()`):"
   ]
  },
  {
   "cell_type": "code",
   "execution_count": null,
   "metadata": {},
   "outputs": [],
   "source": [
    "def productop(meth) :\n",
    "\n",
    "    class methodwrap :\n",
    "\n",
    "        def __init__(self, instance) :\n",
    "            self.instance = instance\n",
    "        #end __init__\n",
    "\n",
    "        def __call__(self, other) :\n",
    "            return meth(self.instance, other)\n",
    "        #end __call__\n",
    "\n",
    "        def __mul__(self, other) :\n",
    "            if isinstance(other, methodwrap) :\n",
    "                this = meth(self.instance, other.instance)\n",
    "                result = methodwrap(this)\n",
    "            else :\n",
    "                result = meth(self.instance, other)\n",
    "            #end if\n",
    "            return result\n",
    "        #end __mul__\n",
    "\n",
    "    #end methodwrap\n",
    "\n",
    "    class methodprop :\n",
    "\n",
    "        def __get__(self, instance, owner) :\n",
    "            return methodwrap(instance)\n",
    "        #end ___get__\n",
    "\n",
    "    #end methodprop\n",
    "\n",
    "#begin productop\n",
    "    methodwrap.__name__ = meth.__name__\n",
    "    methodwrap.__doc__ = meth.__doc__\n",
    "    return methodprop()\n",
    "#end productop\n"
   ]
  },
  {
   "cell_type": "markdown",
   "metadata": {},
   "source": [
    "Here is exactly the same `Vector` class as before, to save you having to go back to re-execute the class definition:"
   ]
  },
  {
   "cell_type": "code",
   "execution_count": null,
   "metadata": {},
   "outputs": [],
   "source": [
    "class Vector :\n",
    "\n",
    "    def __init__(self, x, y, z) :\n",
    "        self.x = x\n",
    "        self.y = y\n",
    "        self.z = z\n",
    "    #end __init__\n",
    "\n",
    "    def __repr__(self) :\n",
    "        return \"Vector(%s, %s, %s)\" % (self.x, self.y, self.z)\n",
    "    #end __repr__\n",
    "\n",
    "    def __mul__(this, that) :\n",
    "        \"by-element multiplication.\"\n",
    "        if isinstance(that, Vector) :\n",
    "            result = Vector(this.x * that.x, this.y * that.y, this.z * that.z)\n",
    "        elif isinstance(that, Real) :\n",
    "            result = Vector(this.x * that, this.y * that, this.z * that)\n",
    "        else :\n",
    "            result = NotImplemented\n",
    "        #end if\n",
    "        return result\n",
    "    #end __mul__\n",
    "    __rmul__ = __mul__\n",
    "\n",
    "    @productop\n",
    "    def cross(this, that) :\n",
    "        \"cross product.\"\n",
    "        if not isinstance(that, Vector) :\n",
    "            raise TypeError(\"cross product only defined between two Vectors\")\n",
    "        #end if\n",
    "        return \\\n",
    "            Vector \\\n",
    "              (\n",
    "                this.y * that.z - this.z * that.y,\n",
    "                this.z * that.x - this.x * that.z,\n",
    "                this.x * that.y - this.y * that.x,\n",
    "              )\n",
    "    #end cross\n",
    "\n",
    "#end Vector"
   ]
  },
  {
   "cell_type": "markdown",
   "metadata": {},
   "source": [
    "Check that two-operand cases still work as before:"
   ]
  },
  {
   "cell_type": "code",
   "execution_count": null,
   "metadata": {},
   "outputs": [],
   "source": [
    "v1 = Vector(2, 3, 4)\n",
    "v2 = Vector(5, 4, 3)\n",
    "v3 = Vector(9, 8, 7)\n",
    "print(v1 .cross* v2, (v1 .cross* v2) .cross* v3)"
   ]
  },
  {
   "cell_type": "markdown",
   "metadata": {},
   "source": [
    "Try our three-operand case without the helper parentheses:"
   ]
  },
  {
   "cell_type": "code",
   "execution_count": null,
   "metadata": {},
   "outputs": [],
   "source": [
    "print(v1 .cross* v2 .cross* v3)"
   ]
  },
  {
   "cell_type": "markdown",
   "metadata": {},
   "source": [
    "And it works!"
   ]
  },
  {
   "cell_type": "code",
   "execution_count": null,
   "metadata": {},
   "outputs": [],
   "source": []
  }
 ],
 "metadata": {
  "kernelspec": {
   "display_name": "Python 3",
   "language": "python",
   "name": "python3"
  },
  "language_info": {
   "codemirror_mode": {
    "name": "ipython",
    "version": 3
   },
   "file_extension": ".py",
   "mimetype": "text/x-python",
   "name": "python",
   "nbconvert_exporter": "python",
   "pygments_lexer": "ipython3",
   "version": "3.8.6rc1"
  }
 },
 "nbformat": 4,
 "nbformat_minor": 1
}
